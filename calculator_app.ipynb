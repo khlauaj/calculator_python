{
  "nbformat": 4,
  "nbformat_minor": 0,
  "metadata": {
    "colab": {
      "provenance": []
    },
    "kernelspec": {
      "name": "python3",
      "display_name": "Python 3"
    },
    "language_info": {
      "name": "python"
    }
  },
  "cells": [
    {
      "cell_type": "code",
      "execution_count": 30,
      "metadata": {
        "id": "P9V01cGavoBk"
      },
      "outputs": [],
      "source": [
        "#Add function\n",
        "def add(num1,num2):\n",
        "  print(\"Number 1:\", num1)\n",
        "  print(\"Number 2:\", num2)\n",
        "  print(num1,\"+\",num2)\n",
        "  addition = num1 + num2\n",
        "\n",
        "  return addition\n",
        "\n",
        "\n",
        "#Deduct function\n",
        "def deduct(num1,num2):\n",
        "  print(\"Number 1:\", num1)\n",
        "  print(\"Number 2:\", num2)\n",
        "  print(num1,\"-\",num2)\n",
        "  deduct = num1 - num2\n",
        "\n",
        "  return deduct\n",
        "\n",
        "\n",
        "  #Multiple function\n",
        "def multiple(num1,num2):\n",
        "  print(\"Number 1:\", num1)\n",
        "  print(\"Number 2:\", num2)\n",
        "  print(num1,\"x\",num2)\n",
        "  multiple = num1 * num2\n",
        "\n",
        "  return multiple\n",
        "\n",
        "\n",
        "  #Divide function\n",
        "def divide(num1,num2):\n",
        "  print(\"Number 1:\", num1)\n",
        "  print(\"Number 2:\", num2)\n",
        "  print(num1,\"÷\",num2)\n",
        "  divide = num1 / num2\n",
        "\n",
        "  return divide"
      ]
    },
    {
      "cell_type": "code",
      "source": [
        "print (\"Hi, Please select the calculator function by number \\n1. addition \\n2. deduct \\n3. multiple \\n4. divide\")\n",
        "\n",
        "select_function = int(input(\"Which funtction? \"))\n",
        "\n",
        "num1 = int(input(\"What is the first number? \"))\n",
        "num2 = int(input(\"What is the second number? \"))\n",
        "\n",
        "if select_function == 1:\n",
        "  result = add(num1,num2)\n",
        "elif select_function== 2:\n",
        "  result = deduct(num1,num2)\n",
        "elif select_function== 3:\n",
        "  result = multiple(num1,num2)\n",
        "elif select_function== 4:\n",
        "  result = divide(num1,num2)\n",
        "\n",
        "print(\"=\",result)\n",
        "\n",
        "\n"
      ],
      "metadata": {
        "colab": {
          "base_uri": "https://localhost:8080/"
        },
        "id": "3eEnk-BezQCX",
        "outputId": "b2959ba4-0298-470d-d6d6-adf90dea2337"
      },
      "execution_count": 36,
      "outputs": [
        {
          "output_type": "stream",
          "name": "stdout",
          "text": [
            "Hi, Please select the calculator function by number \n",
            "1. addition \n",
            "2. deduct \n",
            "3. multiple \n",
            "4. divide\n",
            "Which funtction? 4\n",
            "What is the first number? 2\n",
            "What is the second number? 1\n",
            "Number 1: 2\n",
            "Number 2: 1\n",
            "2 ÷ 1\n",
            "= 2.0\n"
          ]
        }
      ]
    },
    {
      "cell_type": "code",
      "source": [],
      "metadata": {
        "id": "O366gf8LylZF"
      },
      "execution_count": null,
      "outputs": []
    }
  ]
}